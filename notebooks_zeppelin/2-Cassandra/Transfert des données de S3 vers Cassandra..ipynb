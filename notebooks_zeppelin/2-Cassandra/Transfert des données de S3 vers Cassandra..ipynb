﻿{
  "metadata": {
    "name": "Transfert des données de S3 vers Cassandra",
    "kernelspec": {
      "language": "scala",
      "name": "spark2-scala"
    },
    "language_info": {
      "codemirror_mode": "text/x-scala",
      "file_extension": ".scala",
      "mimetype": "text/x-scala",
      "name": "scala",
      "pygments_lexer": "scala"
    }
  },
  "nbformat": 4,
  "nbformat_minor": 2,
  "cells": [
    {
      "cell_type": "markdown",
      "metadata": {},
      "source": "## Création des RDD puis des dataframes à partir des fichiers stockés dans S3"
    },
    {
      "cell_type": "markdown",
      "metadata": {},
      "source": ""
    },
    {
      "cell_type": "code",
      "execution_count": 2,
      "metadata": {
        "autoscroll": "auto"
      },
      "outputs": [],
      "source": "import spark.implicits._\nimport sys.process._\nimport java.net.URL\nimport java.io.File\nimport java.io.File\nimport java.nio.file.{Files, StandardCopyOption}\nimport java.net.HttpURLConnection \nimport org.apache.spark.sql.functions._\n\n// Import connexion à S3\nimport org.apache.spark.sql.SQLContext\nimport org.apache.hadoop.fs.s3.S3FileSystem\nimport com.amazonaws.services.s3.transfer.TransferManager\n\n// Imports connexion Cassandra\nimport org.apache.spark.input.PortableDataStream\nimport org.apache.spark.sql.SQLContext\nimport org.apache.spark.sql.cassandra._\nimport com.datastax.spark.connector._\nimport org.apache.spark.sql.types.IntegerType\n\n// Imports chargement dataframe\nimport org.apache.spark.input.PortableDataStream\nimport java.util.zip.ZipInputStream\nimport java.io.BufferedReader\nimport java.io.InputStreamReader\n\nimport org.apache.spark.sql.functions.regexp_replace\nimport org.apache.spark.sql.functions.explode\nimport org.apache.spark.sql.functions\n\nimport org.apache.spark.sql.types.StringType\nimport org.apache.spark.sql.types.FloatType"
    },
    {
      "cell_type": "code",
      "execution_count": 3,
      "metadata": {
        "autoscroll": "auto"
      },
      "outputs": [],
      "source": "import org.apache.spark.sql.cassandra._\r\nimport com.datastax.spark.connector.cql.CassandraConnector\r\nimport com.datastax.spark.connector.rdd.ReadConf"
    },
    {
      "cell_type": "code",
      "execution_count": 4,
      "metadata": {
        "autoscroll": "auto"
      },
      "outputs": [],
      "source": "val connector \u003d CassandraConnector(sc.getConf)"
    },
    {
      "cell_type": "code",
      "execution_count": 5,
      "metadata": {
        "autoscroll": "auto"
      },
      "outputs": [],
      "source": "// dataframe event\n\nval RDD_event \u003d sc.binaryFiles(\"s3://celine-drevet-telecom/202003[0-9]*.export.CSV.zip\"). // charger quelques fichers via une regex\n   flatMap {  // decompresser les fichiers\n       case (name: String, content: PortableDataStream) \u003d\u003e\n          val zis \u003d new ZipInputStream(content.open)\n          Stream.continually(zis.getNextEntry).\n                takeWhile(_ !\u003d null).\n                flatMap { _ \u003d\u003e\n                    val br \u003d new BufferedReader(new InputStreamReader(zis))\n                    Stream.continually(br.readLine()).takeWhile(_ !\u003d null)\n                }\n    }\n    \nval DF_event \u003d RDD_event.map(x\u003d\u003ex.split(\"\\t\")).toDF()"
    },
    {
      "cell_type": "code",
      "execution_count": 6,
      "metadata": {
        "autoscroll": "auto"
      },
      "outputs": [],
      "source": "// dataframe event_trans\n\nval RDD_event_trans \u003d sc.binaryFiles(\"s3://celine-drevet-telecom/202003[0-9]*.translation.export.CSV.zip\"). // charger quelques fichers via une regex\n   flatMap {  // decompresser les fichiers\n       case (name: String, content: PortableDataStream) \u003d\u003e\n          val zis \u003d new ZipInputStream(content.open)\n          Stream.continually(zis.getNextEntry).\n                takeWhile(_ !\u003d null).\n                flatMap { _ \u003d\u003e\n                    val br \u003d new BufferedReader(new InputStreamReader(zis))\n                    Stream.continually(br.readLine()).takeWhile(_ !\u003d null)\n                }\n    }\n    \nval DF_event_trans \u003d RDD_event_trans.map(x\u003d\u003ex.split(\"\\t\")).toDF()"
    },
    {
      "cell_type": "code",
      "execution_count": 7,
      "metadata": {
        "autoscroll": "auto"
      },
      "outputs": [],
      "source": "// dataframe gkg\n\nval RDD_gkg \u003d sc.binaryFiles(\"s3://celine-drevet-telecom/202003[0-9]*.gkg.csv.zip\"). // charger quelques fichers via une regex\n   flatMap {  // decompresser les fichiers\n       case (name: String, content: PortableDataStream) \u003d\u003e\n          val zis \u003d new ZipInputStream(content.open)\n          Stream.continually(zis.getNextEntry).\n                takeWhile{ case null \u003d\u003e zis.close(); false\n                case _  \u003d\u003e true }.\n                flatMap { _ \u003d\u003e\n                    val br \u003d new BufferedReader(new InputStreamReader(zis))\n                    Stream.continually(br.readLine()).takeWhile(_ !\u003d null)\n                }\n    }\n    \nval DF_gkg \u003d RDD_gkg.map(x\u003d\u003ex.split(\"\\t\")).toDF()"
    },
    {
      "cell_type": "code",
      "execution_count": 8,
      "metadata": {
        "autoscroll": "auto"
      },
      "outputs": [],
      "source": "// dataframe gkg_trans\n\nval RDD_gkg_trans \u003d sc.binaryFiles(\"s3://celine-drevet-telecom/202003[0-9]*.translation.gkg.csv.zip\"). // charger quelques fichers via une regex\n   flatMap {  // decompresser les fichiers\n       case (name: String, content: PortableDataStream) \u003d\u003e\n          val zis \u003d new ZipInputStream(content.open)\n          Stream.continually(zis.getNextEntry).\n                takeWhile{ case null \u003d\u003e zis.close(); false\n                case _  \u003d\u003e true }.\n                flatMap { _ \u003d\u003e\n                    val br \u003d new BufferedReader(new InputStreamReader(zis))\n                    Stream.continually(br.readLine()).takeWhile(_ !\u003d null)\n                }\n    }\n    \nval DF_gkg_trans \u003d RDD_gkg_trans.map(x\u003d\u003ex.split(\"\\t\")).toDF()"
    },
    {
      "cell_type": "code",
      "execution_count": 9,
      "metadata": {
        "autoscroll": "auto"
      },
      "outputs": [],
      "source": "// dataframe mention\n\nval RDD_mention \u003d sc.binaryFiles(\"s3://celine-drevet-telecom/202003[0-9]*.mentions.CSV.zip\"). // charger quelques fichers via une regex\n   flatMap {  // decompresser les fichiers\n       case (name: String, content: PortableDataStream) \u003d\u003e\n          val zis \u003d new ZipInputStream(content.open)\n          Stream.continually(zis.getNextEntry).\n                takeWhile(_ !\u003d null).\n                flatMap { _ \u003d\u003e\n                    val br \u003d new BufferedReader(new InputStreamReader(zis))\n                    Stream.continually(br.readLine()).takeWhile(_ !\u003d null)\n                }\n    }\nval DF_mention \u003d RDD_mention.map(x\u003d\u003ex.split(\"\\t\")).toDF()"
    },
    {
      "cell_type": "code",
      "execution_count": 10,
      "metadata": {
        "autoscroll": "auto"
      },
      "outputs": [],
      "source": "// dataframe mention_trans\n\nval RDD_mention_trans \u003d sc.binaryFiles(\"s3://celine-drevet-telecom/202003[0-9]*.translation.mentions.CSV.zip\"). // charger quelques fichers via une regex\n   flatMap {  // decompresser les fichiers\n       case (name: String, content: PortableDataStream) \u003d\u003e\n          val zis \u003d new ZipInputStream(content.open)\n          Stream.continually(zis.getNextEntry).\n                takeWhile(_ !\u003d null).\n                flatMap { _ \u003d\u003e\n                    val br \u003d new BufferedReader(new InputStreamReader(zis))\n                    Stream.continually(br.readLine()).takeWhile(_ !\u003d null)\n                }\n    }\nval DF_mention_trans \u003d RDD_mention_trans.map(x\u003d\u003ex.split(\"\\t\")).toDF()"
    },
    {
      "cell_type": "code",
      "execution_count": 11,
      "metadata": {
        "autoscroll": "auto"
      },
      "outputs": [],
      "source": "// première sélection de colonnes des dataframes mention, event et gkg\n\n//table mention\nval mention_trans \u003d DF_mention_trans.withColumn(\"_tmp\", $\"value\").select(\n    $\"_tmp\".getItem(0).as(\"globaleventid\").cast(\"String\"),\n    $\"_tmp\".getItem(1).as(\"eventtimedate\").cast(\"String\"),\n    $\"_tmp\".getItem(5).as(\"documentidentifier\").cast(\"String\")\n//    $\"_tmp\".getItem(13).as(\"meantone\"),\n//    $\"_tmp\".getItem(14).as(\"language\")\n    )\n    \nval mention \u003d DF_mention.withColumn(\"_tmp\", $\"value\").select(\n    $\"_tmp\".getItem(0).as(\"globaleventid\").cast(\"String\"),\n    $\"_tmp\".getItem(1).as(\"eventtimedate\").cast(\"String\"),\n    $\"_tmp\".getItem(5).as(\"documentidentifier\").cast(\"String\")\n//    $\"_tmp\".getItem(13).as(\"meantone\"),\n//    $\"_tmp\".getItem(14).as(\"language\")\n    )\n\n//table event\nval event \u003d DF_event.withColumn(\"_tmp\", $\"value\").select(\n    $\"_tmp\".getItem(0).as(\"globaleventid\").cast(\"String\"),\n    $\"_tmp\".getItem(1).as(\"day\").cast(\"String\"),\n//    $\"_tmp\".getItem(33).as(\"numarticles\"),\n    $\"_tmp\".getItem(52).as(\"fullnameactioncountry\").cast(\"String\"),\n    $\"_tmp\".getItem(53).as(\"actioncountry\").cast(\"String\")\n    )\n    \nval event_trans \u003d DF_event_trans.withColumn(\"_tmp\", $\"value\").select(\n    $\"_tmp\".getItem(0).as(\"globaleventid\").cast(\"String\"),\n    $\"_tmp\".getItem(1).as(\"day\").cast(\"String\"),\n//    $\"_tmp\".getItem(33).as(\"numarticles\"),\n    $\"_tmp\".getItem(52).as(\"fullnameactioncountry\").cast(\"String\"),\n    $\"_tmp\".getItem(53).as(\"actioncountry\").cast(\"String\")\n    )\n    \n//table gkg\nval gkg \u003d DF_gkg.withColumn(\"_tmp\", $\"value\").select(\n//    $\"_tmp\".getItem(0).as(\"recordid\"),\n    $\"_tmp\".getItem(1).as(\"date\").cast(\"String\"),\n    $\"_tmp\".getItem(3).as(\"sourcecommonname\").cast(\"String\"),\n    $\"_tmp\".getItem(4).as(\"documentidentifier\").cast(\"String\"),\n    $\"_tmp\".getItem(7).as(\"themes\").cast(\"String\"),\n    $\"_tmp\".getItem(9).as(\"locations\").cast(\"String\"),\n    $\"_tmp\".getItem(11).as(\"persons\").cast(\"String\"),\n    $\"_tmp\".getItem(15).as(\"tone\").cast(\"String\"),\n    $\"_tmp\".getItem(25).as(\"translationinfo\").cast(\"String\")\n    )\n    \nval gkg_trans \u003d DF_gkg_trans.withColumn(\"_tmp\", $\"value\").select(\n//    $\"_tmp\".getItem(0).as(\"recordid\"),\n    $\"_tmp\".getItem(1).as(\"date\").cast(\"String\"),\n    $\"_tmp\".getItem(3).as(\"sourcecommonname\").cast(\"String\"),\n    $\"_tmp\".getItem(4).as(\"documentidentifier\").cast(\"String\"),\n    $\"_tmp\".getItem(7).as(\"themes\").cast(\"String\"),\n    $\"_tmp\".getItem(9).as(\"locations\").cast(\"String\"),\n    $\"_tmp\".getItem(11).as(\"persons\").cast(\"String\"),\n    $\"_tmp\".getItem(15).as(\"tone\").cast(\"String\"),\n    $\"_tmp\".getItem(25).as(\"translationinfo\").cast(\"String\")\n    )"
    },
    {
      "cell_type": "code",
      "execution_count": 12,
      "metadata": {
        "autoscroll": "auto"
      },
      "outputs": [],
      "source": "// union des dataframes traduits et en anglais\n\nval df_event_tot \u003d event.union(event_trans)\nval df_mention_tot \u003d mention.union(mention_trans)\nval df_gkg_tot \u003d gkg.union(gkg_trans)"
    },
    {
      "cell_type": "markdown",
      "metadata": {},
      "source": "## Requête 1"
    },
    {
      "cell_type": "markdown",
      "metadata": {},
      "source": "Afficher le nombre d’articles/événements qui parlent de COVID qu’il y a eu pour chaque triplet :\nJour (de publication de l\u0027article)\npays de l’évènement\nlangue de l’article"
    },
    {
      "cell_type": "code",
      "execution_count": 15,
      "metadata": {
        "autoscroll": "auto"
      },
      "outputs": [],
      "source": "//Description des étapes de transformation pour arriver à la table associée à la requête 1 :\n\n//Etape 1 \n//deuxième sélection des champs à partir de df_event_tot\nval event_r1 \u003d df_event_tot.select(\"globaleventid\",\"day\",\"fullnameactioncountry\",\"actioncountry\")"
    },
    {
      "cell_type": "code",
      "execution_count": 16,
      "metadata": {
        "autoscroll": "auto"
      },
      "outputs": [],
      "source": "//Etape 2\n//deuxième sélection des champs à partir de df_gkg_tot\nval gkg_r1 \u003d df_gkg_tot.select(\"documentidentifier\",\"themes\",\"translationinfo\")"
    },
    {
      "cell_type": "code",
      "execution_count": 17,
      "metadata": {
        "autoscroll": "auto"
      },
      "outputs": [],
      "source": "//traitement de la colonne translationinfo\ndef extract_language(translationinfo:String ) : String \u003d {\n    if (translationinfo \u003d\u003d \"\")\n        return \"eng\"\n    else \n        return translationinfo.slice(6, 9)\n}\nval extract_language_udf \u003d udf(extract_language _)\nval gkg_r1_clean \u003d gkg_r1.withColumn(\"translationinfo\", extract_language_udf($\"translationinfo\")).drop(\"translationinfo2\")"
    },
    {
      "cell_type": "code",
      "execution_count": 18,
      "metadata": {
        "autoscroll": "auto"
      },
      "outputs": [],
      "source": "//Etape 3\n//deuxième sélection des champs à partir de df_mention_tot\nval mention_r1 \u003d df_mention_tot.select(\"globaleventid\",\"documentidentifier\")"
    },
    {
      "cell_type": "code",
      "execution_count": 19,
      "metadata": {
        "autoscroll": "auto"
      },
      "outputs": [],
      "source": "//Etape 4\n//Jointure gauche table mention_r1 avec gkg_r1_clean \nval joint_r1 \u003d mention_r1.join(gkg_r1_clean,Seq(\"documentidentifier\"), \"LeftOuter\")\n//--\u003e champs de joint_r1 : documentidentifier, themes, translationinfo, globaleventid"
    },
    {
      "cell_type": "code",
      "execution_count": 20,
      "metadata": {
        "autoscroll": "auto"
      },
      "outputs": [],
      "source": "//Etape 5\n//Explode du champ theme\nval joint_r1_clean \u003d joint_r1.na.drop().withColumn(\"themes2\",split(regexp_replace($\"themes\", \"(^\\\\[\\\\[\\\\[)|(\\\\]\\\\]\\\\]$)\", \"\"), \";\")).drop(\"themes\")\nval explode_r1 \u003d joint_r1_clean.withColumn(\"themes3\", explode($\"themes2\")).drop(\"themes2\")"
    },
    {
      "cell_type": "code",
      "execution_count": 21,
      "metadata": {
        "autoscroll": "auto"
      },
      "outputs": [],
      "source": "//Etape 6\n//Filtre sur themes qui correspondent au COVID\nval filtre_r1 \u003d explode_r1.where(upper($\"themes3\") like \"%CORONAVIRUS%\")\n//.or(upper($\"theme3\") like \"TAX_DISEASE_CORONAVIRUSES\").or(upper($\"theme3\") like \"TAX_DISEASE_CORONAVIRUS_INFECTIONS\")"
    },
    {
      "cell_type": "code",
      "execution_count": 22,
      "metadata": {
        "autoscroll": "auto"
      },
      "outputs": [],
      "source": "//Etape 7\n//jointure gauche filtre_r1  \u0026 event_r1\nval joint2_r1 \u003d filtre_r1.join(event_r1,Seq(\"globaleventid\"),\"LeftOuter\").drop(\"themes3\")\n//--\u003e champs de joint2_r1 : documentidentifier, translationinfo, globaleventid, day, fullnameactioncountry, actioncountry"
    },
    {
      "cell_type": "code",
      "execution_count": 23,
      "metadata": {
        "autoscroll": "auto"
      },
      "outputs": [],
      "source": "//Etape 7\n//final_r1 : à partir de filtre_r1, count(article) group by (globaleventid, day, actioncountry, translation_info) --\u003e nouveau champ numarticles\nval final_r1 \u003d joint2_r1.groupBy(\"globaleventid\",\"day\", \"actioncountry\", \"translationinfo\").agg(countDistinct(\"documentidentifier\").as(\"numarticles\"))"
    },
    {
      "cell_type": "code",
      "execution_count": 24,
      "metadata": {
        "autoscroll": "auto"
      },
      "outputs": [],
      "source": "//connector.withSessionDo { session \u003d\u003e session.execute(\"CREATE KEYSPACE Gdelt WITH replication \u003d {\u0027class\u0027:\u0027SimpleStrategy\u0027, \u0027replication_factor\u0027 : 3};\") }"
    },
    {
      "cell_type": "code",
      "execution_count": 25,
      "metadata": {
        "autoscroll": "auto"
      },
      "outputs": [],
      "source": "connector.withSessionDo { session \u003d\u003e session.execute(\"DROP TABLE IF EXISTS gdelt.table_r1;\") }"
    },
    {
      "cell_type": "code",
      "execution_count": 26,
      "metadata": {
        "autoscroll": "auto"
      },
      "outputs": [],
      "source": "connector.withSessionDo { session \u003d\u003e session.execute(\"CREATE TABLE gdelt.table_r1 (globaleventid text, day text, actioncountry text, language text, numarticles int, PRIMARY KEY ((day, actioncountry, language),globaleventid));\") }"
    },
    {
      "cell_type": "code",
      "execution_count": 27,
      "metadata": {
        "autoscroll": "auto"
      },
      "outputs": [],
      "source": "val final_r1_bis \u003d final_r1.na.drop().withColumnRenamed(\"translationinfo\",\"language\")"
    },
    {
      "cell_type": "code",
      "execution_count": 28,
      "metadata": {
        "autoscroll": "auto"
      },
      "outputs": [],
      "source": "final_r1_bis.write.cassandraFormat(\"table_r1\", \"gdelt\").mode(\"overwrite\").option(\"confirm.truncate\",\"true\").save()"
    },
    {
      "cell_type": "markdown",
      "metadata": {},
      "source": "## Requête 2"
    },
    {
      "cell_type": "markdown",
      "metadata": {},
      "source": "Pour un pays donné en paramètre, affichez les évènements qui y ont eu place triés par le nombre de mentions (tri décroissant)\nPermettez une agrégation par jour/mois/année\n"
    },
    {
      "cell_type": "code",
      "execution_count": 31,
      "metadata": {
        "autoscroll": "auto"
      },
      "outputs": [],
      "source": "def compute_month(date:String) : String \u003d {\n    if (date.length \u003e 6)\n        return date.slice(0,6)\n    else\n        return \"\"\n}\n\nval compute_month_udf \u003d udf(compute_month _)\n\ndef compute_year(date:String) : String \u003d {\n        if (date.length \u003e 4)\n        return date.slice(0,4)\n    else\n        return \"\"\n}\n\nval compute_year_udf \u003d udf(compute_year _)"
    },
    {
      "cell_type": "code",
      "execution_count": 32,
      "metadata": {
        "autoscroll": "auto"
      },
      "outputs": [],
      "source": "//Description des étapes de transformation pour arriver à la table associée à la requête 2 :\n\n//Etape 1 \n//deuxième sélection des champs à partir de df_event_tot\nval event_r2 \u003d df_event_tot.select(\"globaleventid\",\"day\",\"fullnameactioncountry\",\"actioncountry\")"
    },
    {
      "cell_type": "code",
      "execution_count": 33,
      "metadata": {
        "autoscroll": "auto"
      },
      "outputs": [],
      "source": "val event_r2_bis \u003d event_r2.withColumn(\"monthyear\", compute_month_udf($\"day\")).withColumn(\"year\", compute_year_udf($\"day\"))"
    },
    {
      "cell_type": "code",
      "execution_count": 34,
      "metadata": {
        "autoscroll": "auto"
      },
      "outputs": [],
      "source": "//Etape 2\r\n//mention_r2 : on garde les champs globaleventid, mentionidentifier\r\nval mention_r2 \u003d df_mention_tot.select(\"globaleventid\",\"documentidentifier\")"
    },
    {
      "cell_type": "code",
      "execution_count": 35,
      "metadata": {
        "autoscroll": "auto"
      },
      "outputs": [],
      "source": "//Etape 3\r\n//joint_r2: jointure entre mention_r2 et event_r2 sur globaleventid\r\n//1 event peut être présent plusieurs fois dans mention --\u003e on veut conserver toutes les lignes de mention et y ajouter la date et actioncountry selon l\u0027événement concerné\r\nval joint_r2 \u003d mention_r2.join(event_r2_bis,Seq(\"globaleventid\"),\"LeftOuter\")"
    },
    {
      "cell_type": "code",
      "execution_count": 36,
      "metadata": {
        "autoscroll": "auto"
      },
      "outputs": [],
      "source": "//Etape 4\r\n//on groupe par événement/pays/jour/mois/annee/evenement avec un count du nombre de ligne pour chacun de ces groupements \r\n//(étant donné qu\u0027on souhaite le nombre de mentions pas besoin de faire un count distinct sur documentidentifier car on veut bien compter les mentions d\u0027un mm événement faites dans un mm article)\r\nval final_r2 \u003d joint_r2.groupBy(\"globaleventid\",\"actioncountry\",\"day\",\"monthyear\",\"year\").count().sort(desc(\"count\"))//.as(\"nummentions\")"
    },
    {
      "cell_type": "code",
      "execution_count": 37,
      "metadata": {
        "autoscroll": "auto"
      },
      "outputs": [],
      "source": "val final_r2_bis \u003d final_r2.na.drop().withColumnRenamed(\"count\",\"nummentions\")"
    },
    {
      "cell_type": "code",
      "execution_count": 38,
      "metadata": {
        "autoscroll": "auto"
      },
      "outputs": [],
      "source": "connector.withSessionDo { session \u003d\u003e session.execute(\"DROP TABLE IF EXISTS gdelt.table_r2;\") }"
    },
    {
      "cell_type": "code",
      "execution_count": 39,
      "metadata": {
        "autoscroll": "auto"
      },
      "outputs": [],
      "source": "connector.withSessionDo { session \u003d\u003e session.execute(\"CREATE TABLE gdelt.table_r2 (actioncountry text, day int, monthyear int, year int, nummentions int, globaleventid text, PRIMARY KEY ((actioncountry, day, monthyear, year),globaleventid));\") }"
    },
    {
      "cell_type": "code",
      "execution_count": 40,
      "metadata": {
        "autoscroll": "auto"
      },
      "outputs": [],
      "source": "final_r2_bis.write.cassandraFormat(\"table_r2\", \"gdelt\").mode(\"overwrite\").option(\"confirm.truncate\",\"true\").save()"
    },
    {
      "cell_type": "markdown",
      "metadata": {},
      "source": "## Requête 3"
    },
    {
      "cell_type": "markdown",
      "metadata": {},
      "source": "Pour une source de donnés passée en paramètre, affichez les thèmes, personnes, lieux dont les articles de cette source parlent ainsi que le nombre d’articles et le ton moyen des articles pour chaque thème/personne/lieu); permettez une agrégation par jour/mois/année."
    },
    {
      "cell_type": "markdown",
      "metadata": {},
      "source": "### Themes"
    },
    {
      "cell_type": "code",
      "execution_count": 44,
      "metadata": {
        "autoscroll": "auto"
      },
      "outputs": [],
      "source": "//Description des étapes de transformation pour arriver à la table associée à la requête 2 :\n\n//Etape 0 (commune aux 3 sous-requêtes)\n//mise en forme des colonnes tone et date\nval gkg_r3 \u003d df_gkg_tot.select(\"date\",\"sourcecommonname\",\"documentidentifier\",\"themes\",\"locations\",\"persons\",\"tone\")\n    \ndef split_tone(tone:String ) : Float \u003d {\n    val res \u003d tone split \u0027,\u0027 take 1\n    return res(0).toFloat\n}\nval split_tone_udf \u003d udf(split_tone _)\n\ndef compute_month(date:String) : String \u003d {\n    if (date.length \u003e 6)\n        return date.slice(0,6)\n    else\n        return \"\"\n}\n\nval compute_month_udf \u003d udf(compute_month _)\n\ndef compute_year(date:String) : String \u003d {\n        if (date.length \u003e 4)\n        return date.slice(0,4)\n    else\n        return \"\"\n}\n\nval compute_year_udf \u003d udf(compute_year _)\n\nval gkgDF_R3_clean_tone \u003d gkg_r3.na.drop().withColumn(\"tone2\", split_tone_udf($\"tone\")).withColumn(\"date2\", $\"date\".cast(StringType)).withColumn(\"monthyear\", compute_month_udf($\"date\")).withColumn(\"year\", compute_year_udf($\"date\")).drop(\"tone\",\"date\")\n\nval gkgDF_R3_clean_tone_2 \u003d gkgDF_R3_clean_tone.withColumn(\"tone3\", $\"tone2\".cast(FloatType)).drop(\"tone2\")"
    },
    {
      "cell_type": "code",
      "execution_count": 45,
      "metadata": {
        "autoscroll": "auto"
      },
      "outputs": [],
      "source": "//Thèmes\n//Etape 1\n//deuxième sélection des champs à partir de df_gkg_tot\nval gkg_r3_theme \u003d gkgDF_R3_clean_tone_2.select(\"date2\",\"monthyear\",\"year\",\"sourcecommonname\",\"documentidentifier\",\"themes\",\"tone3\")\nval gkg_r3_theme_clean \u003d gkg_r3_theme.na.drop().withColumn(\"themes2\",split(regexp_replace($\"themes\", \"(^\\\\[\\\\[\\\\[)|(\\\\]\\\\]\\\\]$)\", \"\"), \";\")).drop(\"themes\")\nval gkg_theme_explode_r3 \u003d gkg_r3_theme_clean.withColumn(\"themes3\", explode($\"themes2\")).drop(\"themes2\")"
    },
    {
      "cell_type": "code",
      "execution_count": 46,
      "metadata": {
        "autoscroll": "auto"
      },
      "outputs": [],
      "source": "//Etape 2\n//deuxième sélection des champs à partir de df_mention_tot\nval mention_r3 \u003d df_mention_tot.select(\"documentidentifier\")"
    },
    {
      "cell_type": "code",
      "execution_count": 47,
      "metadata": {
        "autoscroll": "auto"
      },
      "outputs": [],
      "source": "//Etape 3\n//jointure gauche entre mention_r3 et gkg_theme_explode_r3\nval joint_r3_theme \u003d mention_r3.join(gkg_theme_explode_r3,Seq(\"documentidentifier\"),\"LeftOuter\")"
    },
    {
      "cell_type": "code",
      "execution_count": 48,
      "metadata": {
        "autoscroll": "auto"
      },
      "outputs": [],
      "source": "//Etape 4\n//groupby\nval final_r3_theme \u003d joint_r3_theme.groupBy(\"sourcecommonname\",\"date2\",\"monthyear\",\"year\",\"themes3\").agg(count(($\"documentidentifier\")).as(\"numarticles\"),mean($\"tone3\").as(\"meantone\"))"
    },
    {
      "cell_type": "code",
      "execution_count": 49,
      "metadata": {
        "autoscroll": "auto"
      },
      "outputs": [],
      "source": "val final_r3_theme_bis \u003d final_r3_theme.na.drop()"
    },
    {
      "cell_type": "code",
      "execution_count": 50,
      "metadata": {
        "autoscroll": "auto"
      },
      "outputs": [],
      "source": "connector.withSessionDo { session \u003d\u003e session.execute(\"DROP TABLE IF EXISTS gdelt.table_r3_theme;\") }"
    },
    {
      "cell_type": "code",
      "execution_count": 51,
      "metadata": {
        "autoscroll": "auto"
      },
      "outputs": [],
      "source": "connector.withSessionDo { session \u003d\u003e session.execute(\"CREATE TABLE gdelt.table_r3_theme (sourcecommonname text, date2 text, monthyear text, year text, themes3 text, numarticles int, meantone float, PRIMARY KEY ((sourcecommonname, date2, monthyear, year),themes3));\") }"
    },
    {
      "cell_type": "code",
      "execution_count": 52,
      "metadata": {
        "autoscroll": "auto"
      },
      "outputs": [],
      "source": "final_r3_theme_bis.write.cassandraFormat(\"table_r3_theme\", \"gdelt\").mode(\"overwrite\").option(\"confirm.truncate\",\"true\").save()"
    },
    {
      "cell_type": "code",
      "execution_count": 53,
      "metadata": {
        "autoscroll": "auto"
      },
      "outputs": [],
      "source": "final_r3_theme_bis.show()"
    },
    {
      "cell_type": "markdown",
      "metadata": {},
      "source": "## Persons"
    },
    {
      "cell_type": "code",
      "execution_count": 55,
      "metadata": {
        "autoscroll": "auto"
      },
      "outputs": [],
      "source": "//Persons\n//Etape 1\n//deuxième sélection des champs à partir de df_gkg_tot\nval gkg_r3_persons \u003d gkgDF_R3_clean_tone_2.select(\"date2\",\"monthyear\",\"year\",\"sourcecommonname\",\"documentidentifier\",\"persons\",\"tone3\")\nval gkg_r3_persons_bis \u003d gkg_r3_persons.na.drop().withColumn(\"persons2\",split(regexp_replace($\"persons\", \"(^\\\\[\\\\[\\\\[)|(\\\\]\\\\]\\\\]$)\", \"\"), \";\")).drop(\"persons\")\nval gkg_persons_explode_r3 \u003d gkg_r3_persons_bis.withColumn(\"persons3\",explode($\"persons2\")).drop(\"persons2\")"
    },
    {
      "cell_type": "code",
      "execution_count": 56,
      "metadata": {
        "autoscroll": "auto"
      },
      "outputs": [],
      "source": "//Etape 2\n//jointure gauche entre mention_r3 et gkg_persons_explode_r3\nval joint_r3_person \u003d mention_r3.join(gkg_persons_explode_r3,Seq(\"documentidentifier\"),\"LeftOuter\")"
    },
    {
      "cell_type": "code",
      "execution_count": 57,
      "metadata": {
        "autoscroll": "auto"
      },
      "outputs": [],
      "source": "//Etape 3\n//groupby\nval final_r3_persons \u003d joint_r3_person.groupBy(\"sourcecommonname\",\"date2\",\"monthyear\",\"year\",\"persons3\").agg(countDistinct(($\"documentidentifier\")).as(\"numarticles\"),mean($\"tone3\").as(\"meantone\"))\nval final_r3_persons_bis \u003d final_r3_persons.na.drop()"
    },
    {
      "cell_type": "code",
      "execution_count": 58,
      "metadata": {
        "autoscroll": "auto"
      },
      "outputs": [],
      "source": "connector.withSessionDo { session \u003d\u003e session.execute(\"DROP TABLE IF EXISTS gdelt.table_r3_persons;\") }"
    },
    {
      "cell_type": "code",
      "execution_count": 59,
      "metadata": {
        "autoscroll": "auto"
      },
      "outputs": [],
      "source": "connector.withSessionDo { session \u003d\u003e session.execute(\"CREATE TABLE gdelt.table_r3_persons (sourcecommonname text, date2 text, monthyear text, year text, persons3 text, numarticles int, meantone float, PRIMARY KEY ((sourcecommonname, date2 , monthyear , year) ,persons3));\") }"
    },
    {
      "cell_type": "code",
      "execution_count": 60,
      "metadata": {
        "autoscroll": "auto"
      },
      "outputs": [],
      "source": "final_r3_persons_bis.write.cassandraFormat(\"table_r3_persons\", \"gdelt\").mode(\"overwrite\").option(\"confirm.truncate\",\"true\").save()"
    },
    {
      "cell_type": "markdown",
      "metadata": {},
      "source": "## Locations"
    },
    {
      "cell_type": "code",
      "execution_count": 62,
      "metadata": {
        "autoscroll": "auto"
      },
      "outputs": [],
      "source": "//Locations\n//Etape 1\n//deuxième sélection des champs à partir de df_gkg_tot\nval gkg_r3_locations \u003d gkgDF_R3_clean_tone_2.select(\"date2\",\"monthyear\",\"year\",\"sourcecommonname\",\"documentidentifier\",\"locations\",\"tone3\")\nval gkg_r3_locations_clean \u003d gkg_r3_locations.na.drop().withColumn(\"locations2\",split(regexp_replace($\"locations\", \"(^\\\\[\\\\[\\\\[)|(\\\\]\\\\]\\\\]$)\", \"\"), \";\")).drop(\"locations\")\nval gkg_locations_explode_r3 \u003d gkg_r3_locations_clean.withColumn(\"locations3\",explode($\"locations2\")).drop(\"locations2\")\n\ndef split_location(location:String) : String \u003d {\n    if (location \u003d\u003d null) {\n        return \"\"\n    }\n    else if (location.length \u003e\u003d 1 \u0026\u0026 (location contains \"#\")) {\n        var res \u003d location split \u0027#\u0027\n        var res2 \u003d res(1)\n        if (location contains \",\") {\n            var res3 \u003d res2 split \u0027,\u0027\n            var res4 \u003d res3(0)\n            return res4\n        }\n        return res2\n    }\n    else {\n        return location\n    }\n}\n\nval split_location_udf \u003d udf(split_location _)\n\nval gkg_r3_locations_final \u003d gkg_locations_explode_r3.na.drop().withColumn(\"locations4\", split_location_udf($\"locations3\")).drop(\"locations3\")"
    },
    {
      "cell_type": "code",
      "execution_count": 63,
      "metadata": {
        "autoscroll": "auto"
      },
      "outputs": [],
      "source": "//Etape 2\n//jointure gauche entre mention_r3 et gkg_r3_locations_final\nval joint_r3_locations \u003d mention_r3.join(gkg_r3_locations_final,Seq(\"documentidentifier\"),\"LeftOuter\")"
    },
    {
      "cell_type": "code",
      "execution_count": 64,
      "metadata": {
        "autoscroll": "auto"
      },
      "outputs": [],
      "source": "//Etape 3\n//groupby\nval final_r3_locations \u003d joint_r3_locations.groupBy(\"sourcecommonname\",\"date2\",\"monthyear\",\"year\",\"locations4\").agg(countDistinct(($\"documentidentifier\")).as(\"numarticles\"),mean($\"tone3\").as(\"meantone\"))\nval final_r3_locations_bis \u003d final_r3_locations.na.drop()"
    },
    {
      "cell_type": "code",
      "execution_count": 65,
      "metadata": {
        "autoscroll": "auto"
      },
      "outputs": [],
      "source": "connector.withSessionDo { session \u003d\u003e session.execute(\"DROP TABLE IF EXISTS gdelt.table_r3_locations;\") }"
    },
    {
      "cell_type": "code",
      "execution_count": 66,
      "metadata": {
        "autoscroll": "auto"
      },
      "outputs": [],
      "source": "connector.withSessionDo { session \u003d\u003e session.execute(\"CREATE TABLE gdelt.table_r3_locations (sourcecommonname text, date2 text, monthyear text, year text, locations4 text, numarticles int, meantone float, PRIMARY KEY ((sourcecommonname, date2 , monthyear , year) ,locations4));\") }"
    },
    {
      "cell_type": "code",
      "execution_count": 67,
      "metadata": {
        "autoscroll": "auto"
      },
      "outputs": [],
      "source": "final_r3_locations_bis.write.cassandraFormat(\"table_r3_locations\", \"gdelt\").mode(\"overwrite\").option(\"confirm.truncate\",\"true\").save()"
    }
  ]
}