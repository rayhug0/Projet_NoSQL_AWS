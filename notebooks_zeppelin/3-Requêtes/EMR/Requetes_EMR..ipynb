﻿{
  "metadata": {
    "name": "Requetes_EMR",
    "kernelspec": {
      "language": "scala",
      "name": "spark2-scala"
    },
    "language_info": {
      "codemirror_mode": "text/x-scala",
      "file_extension": ".scala",
      "mimetype": "text/x-scala",
      "name": "scala",
      "pygments_lexer": "scala"
    }
  },
  "nbformat": 4,
  "nbformat_minor": 2,
  "cells": [
    {
      "cell_type": "code",
      "execution_count": 0,
      "metadata": {
        "autoscroll": "auto"
      },
      "outputs": [],
      "source": "import sys.process._\nimport java.net.URL\nimport java.io.File\nimport java.io.File\nimport java.nio.file.{Files, StandardCopyOption}\nimport java.net.HttpURLConnection \nimport org.apache.spark.sql.functions._\nimport org.apache.spark.sql.SQLContext\nimport org.apache.spark.input.PortableDataStream\nimport java.util.zip.ZipInputStream\nimport java.io.BufferedReader\nimport java.io.InputStreamReader\nimport com.amazonaws.services.s3.AmazonS3Client\nimport com.amazonaws.auth.BasicAWSCredentials\nimport com.datastax.spark.connector.cql.CassandraConnector\nimport org.apache.spark.sql.cassandra._\n"
    },
    {
      "cell_type": "markdown",
      "metadata": {},
      "source": "## Requête 1"
    },
    {
      "cell_type": "markdown",
      "metadata": {},
      "source": "Afficher le nombre d’articles/événements qui parlent de COVID qu’il y a eu pour chaque triplet :\nJour (de publication de l\u0027article)\npays de l’évènement\nlangue de l’article"
    },
    {
      "cell_type": "code",
      "execution_count": 3,
      "metadata": {
        "autoscroll": "auto"
      },
      "outputs": [],
      "source": "val req1 \u003d spark.read.cassandraFormat(\"table_r1\", \"gdelt\").load()\nreq1.createOrReplaceTempView(\"vue_req1\")"
    },
    {
      "cell_type": "code",
      "execution_count": 4,
      "metadata": {
        "autoscroll": "auto"
      },
      "outputs": [],
      "source": "z.show(spark.sql(\"\"\"SELECT numarticles, globaleventid FROM vue_req1 LIMIT 10\"\"\"))"
    },
    {
      "cell_type": "markdown",
      "metadata": {},
      "source": "## Requête 2"
    },
    {
      "cell_type": "markdown",
      "metadata": {},
      "source": "Pour un pays donné en paramètre, affichez les évènements qui y ont eu place triés par le nombre de mentions (tri décroissant)\nPermettez une agrégation par jour/mois/année\n"
    },
    {
      "cell_type": "code",
      "execution_count": 7,
      "metadata": {
        "autoscroll": "auto"
      },
      "outputs": [],
      "source": "//actioncountry text, day int, monthyear int, year int, nummentions int, globaleventid text, PRIMARY KEY ((actioncountry, day, monthyear, year),globaleventid)"
    },
    {
      "cell_type": "code",
      "execution_count": 8,
      "metadata": {
        "autoscroll": "auto"
      },
      "outputs": [],
      "source": "val req2 \u003d spark.read.cassandraFormat(\"table_r2\", \"gdelt\").load()\nreq2.createOrReplaceTempView(\"vue_req2\")"
    },
    {
      "cell_type": "code",
      "execution_count": 9,
      "metadata": {
        "autoscroll": "auto"
      },
      "outputs": [],
      "source": "z.show(spark.sql(\"\"\"SELECT * FROM vue_req2 WHERE actioncountry\u003d\"US\" ORDER BY nombre_mentions DESC LIMIT 10\"\"\"))"
    },
    {
      "cell_type": "markdown",
      "metadata": {},
      "source": "## Requête 3"
    },
    {
      "cell_type": "markdown",
      "metadata": {},
      "source": "Pour une source de donnés passée en paramètre, affichez les thèmes, personnes, lieux dont les articles de cette source parlent ainsi que le nombre d’articles et le ton moyen des articles pour chaque thème/personne/lieu); permettez une agrégation par jour/mois/année.\n"
    },
    {
      "cell_type": "markdown",
      "metadata": {},
      "source": "## Themes"
    },
    {
      "cell_type": "code",
      "execution_count": 13,
      "metadata": {
        "autoscroll": "auto"
      },
      "outputs": [],
      "source": "val req3_theme \u003d spark.read.cassandraFormat(\"table_r3_theme\", \"gdelt\").load()\nreq3_theme.createOrReplaceTempView(\"vue_req3_theme\")"
    },
    {
      "cell_type": "code",
      "execution_count": 14,
      "metadata": {
        "autoscroll": "auto"
      },
      "outputs": [],
      "source": "//sourcecommonname text, date2 text, monthyear text, year text, themes3 text, numarticles int, meantone float, PRIMARY KEY ((sourcecommonname, date2, monthyear, year),themes3));\") }"
    },
    {
      "cell_type": "code",
      "execution_count": 15,
      "metadata": {
        "autoscroll": "auto"
      },
      "outputs": [],
      "source": "z.show(spark.sql(\"\"\"SELECT sourcecommonname, themes3, numarticles, meantone FROM vue_req3_theme WHERE sourcecommonname \u003d \"nytimes.com\" LIMIT 50\"\"\"))"
    },
    {
      "cell_type": "markdown",
      "metadata": {},
      "source": "## Persons"
    },
    {
      "cell_type": "code",
      "execution_count": 17,
      "metadata": {
        "autoscroll": "auto"
      },
      "outputs": [],
      "source": "//sourcecommonname text, date2 text, monthyear text, year text, persons3 text, numarticles int, meantone float, PRIMARY KEY ((sourcecommonname, date2 , monthyear , year) ,persons3)"
    },
    {
      "cell_type": "code",
      "execution_count": 18,
      "metadata": {
        "autoscroll": "auto"
      },
      "outputs": [],
      "source": "val req3_persons \u003d spark.read.cassandraFormat(\"table_r3_persons\", \"gdelt\").load()\nreq3_persons.createOrReplaceTempView(\"vue_req3_persons\")"
    },
    {
      "cell_type": "code",
      "execution_count": 19,
      "metadata": {
        "autoscroll": "auto"
      },
      "outputs": [],
      "source": "z.show(spark.sql(\"\"\"SELECT src_name, persons_2, nombre_articles, ton_moyen FROM  WHERE src_name \u003d \"ouest-france.fr\" LIMIT 50\"\"\"))"
    },
    {
      "cell_type": "markdown",
      "metadata": {},
      "source": "## Locations"
    },
    {
      "cell_type": "code",
      "execution_count": 21,
      "metadata": {
        "autoscroll": "auto"
      },
      "outputs": [],
      "source": "val req3_locations \u003d spark.read.cassandraFormat(\"table_r3_locations\", \"gdelt\").load()\nreq3_locations.createOrReplaceTempView(\"vue_req3_locations\")"
    },
    {
      "cell_type": "code",
      "execution_count": 22,
      "metadata": {
        "autoscroll": "auto"
      },
      "outputs": [],
      "source": "//sourcecommonname text, date2 text, monthyear text, year text, locations4 text, numarticles int, meantone float, PRIMARY KEY ((sourcecommonname, date2 , monthyear , year) ,locations4"
    },
    {
      "cell_type": "code",
      "execution_count": 23,
      "metadata": {
        "autoscroll": "auto"
      },
      "outputs": [],
      "source": "z.show(spark.sql(\"\"\"SELECT src_name, persons_2, nombre_articles, ton_moyen FROM vue_req3_locations WHERE src_name \u003d \"ouest-france.fr\" LIMIT 50\"\"\"))"
    }
  ]
}