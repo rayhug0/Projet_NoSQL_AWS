﻿{
  "metadata": {
    "name": "Requetes_EC2",
    "kernelspec": {
      "language": "scala",
      "name": "spark2-scala"
    },
    "language_info": {
      "codemirror_mode": "text/x-scala",
      "file_extension": ".scala",
      "mimetype": "text/x-scala",
      "name": "scala",
      "pygments_lexer": "scala"
    }
  },
  "nbformat": 4,
  "nbformat_minor": 2,
  "cells": [
    {
      "cell_type": "markdown",
      "metadata": {},
      "source": "# Requête 1"
    },
    {
      "cell_type": "markdown",
      "metadata": {},
      "source": "Afficher le nombre d’articles/événements qui parlent de COVID qu’il y a eu pour chaque triplet :\nJour (de publication de l\u0027article)\npays de l’évènement\nlangue de l’article"
    },
    {
      "cell_type": "code",
      "execution_count": 2,
      "metadata": {
        "autoscroll": "auto"
      },
      "outputs": [],
      "source": "//(globaleventid text, day text, actioncountry text, language text, numarticles int, \n//PRIMARY KEY ((day, actioncountry, language),globaleventid));\") }"
    },
    {
      "cell_type": "code",
      "execution_count": 3,
      "metadata": {
        "autoscroll": "auto"
      },
      "outputs": [],
      "source": "%cassandra\nSELECT * FROM table_r1;"
    },
    {
      "cell_type": "markdown",
      "metadata": {},
      "source": "# Requête 2"
    },
    {
      "cell_type": "markdown",
      "metadata": {},
      "source": "Pour un pays donné en paramètre, affichez les évènements qui y ont eu place triés par le nombre de mentions (tri décroissant)\nPermettez une agrégation par jour/mois/année\n"
    },
    {
      "cell_type": "code",
      "execution_count": 6,
      "metadata": {
        "autoscroll": "auto"
      },
      "outputs": [],
      "source": "//actioncountry text, day int, monthyear int, year int, nummentions int, globaleventid text, \n//PRIMARY KEY ((actioncountry, day, monthyear, year),globaleventid)"
    },
    {
      "cell_type": "code",
      "execution_count": 7,
      "metadata": {
        "autoscroll": "auto"
      },
      "outputs": [],
      "source": "%cassandra\nSELECT * FROM table_r2 WHERE actioncountry\u003d\u0027US\u0027 ALLOW FILTERING;"
    },
    {
      "cell_type": "markdown",
      "metadata": {},
      "source": "# Requête 3"
    },
    {
      "cell_type": "markdown",
      "metadata": {},
      "source": "### Themes"
    },
    {
      "cell_type": "markdown",
      "metadata": {},
      "source": "Pour une source de donnés passée en paramètre, affichez les thèmes dont les articles de cette source parlent ainsi que le nombre d’articles et le ton moyen des articles pour chaque thème, permettez une agrégation par jour/mois/année."
    },
    {
      "cell_type": "code",
      "execution_count": 11,
      "metadata": {
        "autoscroll": "auto"
      },
      "outputs": [],
      "source": "//sourcecommonname text, date2 text, monthyear text, year text, themes3 text, numarticles int, meantone float, PRIMARY KEY ((sourcecommonname, date2, monthyear, year),themes3));\") }"
    },
    {
      "cell_type": "code",
      "execution_count": 12,
      "metadata": {
        "autoscroll": "auto"
      },
      "outputs": [],
      "source": "%cassandra\nSELECT * FROM table_r3_theme WHERE sourcecommonname \u003d \u0027nytimes.com\u0027 LIMIT 50 ALLOW FILTERING;"
    },
    {
      "cell_type": "markdown",
      "metadata": {},
      "source": "### Persons"
    },
    {
      "cell_type": "markdown",
      "metadata": {},
      "source": "Pour une source de donnés passée en paramètre, affichez les personnes, lieux dont les articles de cette source parlent ainsi que le nombre d’articles et le ton moyen des articles pour chaque personne, permettez une agrégation par jour/mois/année."
    },
    {
      "cell_type": "code",
      "execution_count": 15,
      "metadata": {
        "autoscroll": "auto"
      },
      "outputs": [],
      "source": "//sourcecommonname text, date2 text, monthyear text, year text, persons3 text, numarticles int, meantone float, PRIMARY KEY ((sourcecommonname, date2 , monthyear , year) ,persons3)"
    },
    {
      "cell_type": "code",
      "execution_count": 16,
      "metadata": {
        "autoscroll": "auto"
      },
      "outputs": [],
      "source": "%cassandra\nSELECT * FROM table_r3_persons WHERE sourcecommonname \u003d \u0027nytimes.com\u0027 LIMIT 50 ALLOW FILTERING;"
    },
    {
      "cell_type": "markdown",
      "metadata": {},
      "source": "### Locations"
    },
    {
      "cell_type": "markdown",
      "metadata": {},
      "source": "Pour une source de donnés passée en paramètre, affichez les lieux dont les articles de cette source parlent ainsi que le nombre d’articles et le ton moyen des articles pour chaque lieu, permettez une agrégation par jour/mois/année."
    },
    {
      "cell_type": "code",
      "execution_count": 19,
      "metadata": {
        "autoscroll": "auto"
      },
      "outputs": [],
      "source": "%cassandra\nSELECT * FROM table_r3_locations WHERE sourcecommonname \u003d \u0027nytimes.com\u0027 LIMIT 50 ALLOW FILTERING;"
    }
  ]
}